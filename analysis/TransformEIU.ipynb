{
 "cells": [
  {
   "cell_type": "code",
   "execution_count": 3,
   "metadata": {},
   "outputs": [
    {
     "name": "stdout",
     "output_type": "stream",
     "text": [
      "Num of countries: 167\n",
      "test.csv is written with 167 lines\n"
     ]
    }
   ],
   "source": [
    "import pandas as pd\n",
    "\n",
    "HEADERS = ['Country name', 'Overall Score', 'Rank', 'Electoral process and pluralism', 'Functioning of government', 'Political participation', 'Political culture', 'Civil liberties']\n",
    "\n",
    "def separate_words(word_list):\n",
    "    country_words = []\n",
    "    value_words = []\n",
    "    for word in word_list:\n",
    "        word = word.replace('=', '')\n",
    "        if not word.replace('.', '', 1).isdigit():\n",
    "            country_words.append(word)\n",
    "        else:\n",
    "            value_words.append(word)\n",
    "    return country_words, value_words\n",
    "\n",
    "def write_csv(countries, values, headers=HEADERS):\n",
    "    filename = 'test.csv'\n",
    "    with open(filename, 'w') as f:\n",
    "        f.write(','.join(headers))\n",
    "        f.write('\\n')\n",
    "\n",
    "        for i in range(len(countries)):\n",
    "            f.write(countries[i] + ',')\n",
    "            f.write(','.join(values[i]))\n",
    "            f.write('\\n')\n",
    "\n",
    "    print('test.csv is written with {} lines'.format(len(countries)))\n",
    "            \n",
    "\n",
    "def main():\n",
    "    with open('raw_data') as f:\n",
    "        lines = f.readlines()\n",
    "    \n",
    "    countries = []\n",
    "    values = []\n",
    "    for line in lines:\n",
    "        word_list = line.replace('\\n', '').split(' ')\n",
    "        country_words, value_words = separate_words(word_list)\n",
    "        countries.append(' '.join(country_words))\n",
    "        values.append(value_words)\n",
    "    print('Num of countries: {}'.format(len(countries)))\n",
    "    write_csv(countries, values)\n",
    "if __name__ == \"__main__\":\n",
    "    main()        "
   ]
  },
  {
   "cell_type": "code",
   "execution_count": 5,
   "metadata": {},
   "outputs": [
    {
     "name": "stdout",
     "output_type": "stream",
     "text": [
      "Analysis SG.ipynb    \u001b[34manalysis\u001b[m\u001b[m/            \u001b[34mreference\u001b[m\u001b[m/\r\n",
      "Analysis.ipynb       \u001b[34mdata\u001b[m\u001b[m/                test.csv\r\n",
      "README.md            \u001b[34mmodels\u001b[m\u001b[m/              transform_to_csv.py\r\n",
      "TransformEIU.ipynb   raw_data\r\n"
     ]
    }
   ],
   "source": [
    "ls"
   ]
  },
  {
   "cell_type": "code",
   "execution_count": null,
   "metadata": {},
   "outputs": [],
   "source": []
  }
 ],
 "metadata": {
  "kernelspec": {
   "display_name": "Python 3",
   "language": "python",
   "name": "python3"
  },
  "language_info": {
   "codemirror_mode": {
    "name": "ipython",
    "version": 3
   },
   "file_extension": ".py",
   "mimetype": "text/x-python",
   "name": "python",
   "nbconvert_exporter": "python",
   "pygments_lexer": "ipython3",
   "version": "3.7.6"
  }
 },
 "nbformat": 4,
 "nbformat_minor": 4
}
